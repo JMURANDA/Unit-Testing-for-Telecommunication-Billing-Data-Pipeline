{
  "nbformat": 4,
  "nbformat_minor": 0,
  "metadata": {
    "colab": {
      "provenance": []
    },
    "kernelspec": {
      "name": "python3",
      "display_name": "Python 3"
    },
    "language_info": {
      "name": "python"
    }
  },
  "cells": [
    {
      "cell_type": "code",
      "source": [
        "import unittest\n",
        "import pandas as pd\n",
        "\n"
      ],
      "metadata": {
        "id": "gD9Za6NHca8n"
      },
      "execution_count": 17,
      "outputs": []
    },
    {
      "cell_type": "code",
      "source": [
        "# Import the functions to be tested\n",
        "\n",
        "def data_extraction(input_file):\n",
        "    # Implement the data extraction logic\n",
        "    extracted_data = pd.read_csv('/content/billing_data.csv')\n",
        "    return extracted_data\n",
        "\n",
        "def data_transformation(data):\n",
        "    # Implement the data transformation logic\n",
        "    transformed_data = data.copy()\n",
        "    transformed_data['total_amount'] = transformed_data['billing_amount'] + transformed_data['tax_amount']\n",
        "    transformed_data = transformed_data[['customer_id', 'total_amount']]\n",
        "    return transformed_data\n",
        "\n",
        "def data_loading(data, output_file):\n",
        "    # Implement the data loading logic\n",
        "    data.to_csv(output_file, index=False)\n"
      ],
      "metadata": {
        "id": "3BzTvxcFdLtp"
      },
      "execution_count": 20,
      "outputs": []
    },
    {
      "cell_type": "code",
      "source": [
        "class TestDataPipeline(unittest.TestCase):\n",
        "    def setUp(self):\n",
        "        #  data or resources for the tests\n",
        "        self.input_file = 'billing_data.csv'\n",
        "        self.expected_data = pd.read_csv(self.input_file)\n",
        "\n",
        "\n",
        "    def tearDown(self):\n",
        "        # Clean up any resources after the tests\n",
        "        pass\n",
        "\n",
        "    def test_data_extraction(self):\n",
        "        # Test data extraction from the CSV file\n",
        "        extracted_data = data_extraction(self.input_file)\n",
        "        self.assertIsInstance(extracted_data, pd.DataFrame)\n",
        "        self.assertEqual(len(extracted_data), len(self.expected_data))\n",
        "\n",
        "    def test_data_transformation(self):\n",
        "        # Test data transformation using pandas\n",
        "        extracted_data = data_extraction(self.input_file)\n",
        "        transformed_data = data_transformation(extracted_data)\n",
        "\n",
        "        # Perform assertions on the transformed data\n",
        "        self.assertIsInstance(transformed_data, pd.DataFrame)\n",
        "        self.assertEqual(len(transformed_data), len(self.expected_data))\n",
        "        self.assertEqual(list(transformed_data.columns), ['customer_id', 'total_amount'])\n",
        "\n",
        "    def test_data_loading(self):\n",
        "        # Test data loading to the output CSV file\n",
        "        extracted_data = data_extraction(self.input_file)\n",
        "        transformed_data = data_transformation(extracted_data)\n",
        "\n",
        "        # test output file for data loading\n",
        "        output_file = 'output_data.csv'\n",
        "\n",
        "        # Perform data loading\n",
        "        data_loading(transformed_data, output_file)\n",
        "\n",
        "        # Read the output file and compare with the expected data\n",
        "        loaded_data = pd.read_csv(output_file)\n",
        "        self.assertIsInstance(loaded_data, pd.DataFrame)\n",
        "        self.assertEqual(len(loaded_data), len(transformed_data))\n",
        "        self.assertTrue(loaded_data.equals(transformed_data))\n",
        "\n",
        "\n",
        "if __name__ == '__main__':\n",
        "    unittest.main()\n",
        "\n"
      ],
      "metadata": {
        "id": "qzcre5yjcKHB"
      },
      "execution_count": 33,
      "outputs": []
    }
  ]
}